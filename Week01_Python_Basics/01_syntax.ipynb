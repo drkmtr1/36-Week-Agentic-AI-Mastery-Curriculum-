{
 "cells": [
  {
   "cell_type": "code",
   "execution_count": 1,
   "id": "ac973330",
   "metadata": {},
   "outputs": [
    {
     "name": "stdout",
     "output_type": "stream",
     "text": [
      "Congratulations on launching your Codespace, William!\n",
      "Hello, William! Let's master AI development step by step.\n"
     ]
    }
   ],
   "source": [
    "print(\"Congratulations on launching your Codespace, William!\")\n",
    "name = \"William\"\n",
    "goal = \"master AI development\"\n",
    "print(f\"Hello, {name}! Let's {goal} step by step.\")"
   ]
  },
  {
   "cell_type": "markdown",
   "id": "c304bc86",
   "metadata": {},
   "source": [
    "_Saved for GitHub render refresh — 2025-05-22 _\n"
   ]
  },
  {
   "cell_type": "code",
   "execution_count": 1,
   "id": "85bb3e5e",
   "metadata": {},
   "outputs": [],
   "source": [
    "_ = 42"
   ]
  },
  {
   "cell_type": "markdown",
   "id": "ca0a48e4",
   "metadata": {},
   "source": [
    "add Week01_Python_Basics/01_syntax.ipynb\\ngit\n"
   ]
  }
 ],
 "metadata": {
  "kernelspec": {
   "display_name": "Python 3",
   "language": "python",
   "name": "python3"
  },
  "language_info": {
   "codemirror_mode": {
    "name": "ipython",
    "version": 3
   },
   "file_extension": ".py",
   "mimetype": "text/x-python",
   "name": "python",
   "nbconvert_exporter": "python",
   "pygments_lexer": "ipython3",
   "version": "3.12.1"
  }
 },
 "nbformat": 4,
 "nbformat_minor": 5
}
